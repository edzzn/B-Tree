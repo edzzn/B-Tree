{
 "cells": [
  {
   "cell_type": "markdown",
   "metadata": {},
   "source": [
    "# B+ Tree\n",
    "\n",
    "Árbol perfectamente balanceado\n",
    "\n",
    "![B + Tree](b+tree.png)\n",
    "\n",
    "[info](https://www.youtube.com/watch?v=CYKRMz8yzVU)\n",
    "\n",
    "---\n",
    "### Orden y número de llaves\n",
    "\n",
    "### Segun Wikipedia\n",
    "\n",
    "|Node Type | Children Type|\tMin Number of Children|\tMax Number of Children|\tExample b=7|Example b=100| b = 3 |\n",
    "|------|------|------|------|------|------|------|\n",
    "|Root Node (when it is the only node in the tree)|Records|1|b-1|1–6|1–99|1-2|\n",
    "|Root Node|Internal Nodes or Leaf Nodes|2|b|2–7|2–100|2-3|\n",
    "|Internal Node|Internal Nodes or Leaf Nodes|b/2|b|4–7|50–100|2-3|\n",
    "|Leaf Node|Records|[b/2] -1|b-1|3–6|49–99|1-2|\n",
    "\n",
    "\n",
    "[B+ tree - Wikipedia](https://en.wikipedia.org/wiki/B%2B_tree)\n",
    "\n"
   ]
  },
  {
   "cell_type": "markdown",
   "metadata": {},
   "source": [
    "- Nodo interno: __d__ - __2*d__ \n",
    "- Hijos: __d+1__ - __(2*d) + 1)__"
   ]
  },
  {
   "cell_type": "code",
   "execution_count": 108,
   "metadata": {},
   "outputs": [],
   "source": [
    "class TreeNode:\n",
    "     def __init__(self, grado = 1, numLlaves = 0, items = None, hijos = None):\n",
    "        self.numllaves = numLlaves\n",
    "        self.grado = grado\n",
    "        \n",
    "        if (items != None):\n",
    "            self.items = items\n",
    "        else:\n",
    "            self.items = [None] *(grado-1)\n",
    "        \n",
    "        if (hijos != None):\n",
    "            self.hijos = hijos\n",
    "        else:\n",
    "            self.hijos = [None] * (grado)\n",
    "        \n",
    "        self.index = 0;\n",
    "    \n",
    "     def __str__(self):\n",
    "        result = '['\n",
    "        for i in range(self.grado-1):\n",
    "            result += 'P{}, N{}, '.format(self.hijos[i], self.items[i])\n",
    "        result += 'P{}]'.format(self.hijos[self.grado-1])\n",
    "        return result"
   ]
  },
  {
   "cell_type": "code",
   "execution_count": 109,
   "metadata": {},
   "outputs": [],
   "source": [
    "nodo = TreeNode(grado=3)"
   ]
  },
  {
   "cell_type": "code",
   "execution_count": 110,
   "metadata": {},
   "outputs": [
    {
     "name": "stdout",
     "output_type": "stream",
     "text": [
      "[PNone, NNone, PNone, NNone, PNone]\n"
     ]
    }
   ],
   "source": [
    "print(nodo)"
   ]
  },
  {
   "cell_type": "code",
   "execution_count": null,
   "metadata": {},
   "outputs": [],
   "source": []
  }
 ],
 "metadata": {
  "kernelspec": {
   "display_name": "Python 3",
   "language": "python",
   "name": "python3"
  },
  "language_info": {
   "codemirror_mode": {
    "name": "ipython",
    "version": 3
   },
   "file_extension": ".py",
   "mimetype": "text/x-python",
   "name": "python",
   "nbconvert_exporter": "python",
   "pygments_lexer": "ipython3",
   "version": "3.6.5"
  }
 },
 "nbformat": 4,
 "nbformat_minor": 2
}
