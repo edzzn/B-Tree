{
 "cells": [
  {
   "cell_type": "markdown",
   "metadata": {},
   "source": [
    "# B+Tree"
   ]
  },
  {
   "cell_type": "code",
   "execution_count": 1,
   "metadata": {},
   "outputs": [],
   "source": [
    "# El módulo abc obliga a las clases derivadas a implemtar\n",
    "# un método particular utilizando @abstractmethod\n",
    "from abc import ABCMeta, abstractmethod\n",
    "\n",
    "# Permite trabajar mejor con listas, insertar conservando el orden\n",
    "import bisect\n",
    "from math import floor as floor\n"
   ]
  },
  {
   "cell_type": "code",
   "execution_count": 2,
   "metadata": {},
   "outputs": [],
   "source": [
    "class Node(metaclass=ABCMeta):  \n",
    "    \n",
    "    def __init__(self):\n",
    "        self.num = 0\n",
    "        self.keys = []\n",
    "        \n",
    "    @abstractmethod\n",
    "    def getLoc(self, key):\n",
    "        \"\"\"Return null si no split. Si no retorna la info del split.\"\"\"\n",
    "        pass\n",
    "    \n",
    "    @abstractmethod\n",
    "    def insert(self, key,value): pass\n",
    "    \n",
    "    @abstractmethod\n",
    "    def display(self): pass"
   ]
  },
  {
   "cell_type": "code",
   "execution_count": 3,
   "metadata": {},
   "outputs": [],
   "source": [
    "class Split:\n",
    "    \n",
    "    # TODO: Refactor Split\n",
    "    \n",
    "    def __init__(self, key, node_leaf, node_right):\n",
    "        self.key = key\n",
    "        self.left = node_leaf\n",
    "        self.right = node_right\n",
    "    "
   ]
  },
  {
   "cell_type": "code",
   "execution_count": 4,
   "metadata": {},
   "outputs": [],
   "source": [
    "class LNode(Node):\n",
    "    \n",
    "    def __init__(self):\n",
    "        super(LNode, self).__init__();\n",
    "        \n",
    "        self.values = []\n",
    "    \n",
    "    def getLoc(self, key):\n",
    "         for i, key_i in enumerate(self.keys):\n",
    "            if key_i >= key:\n",
    "                return i\n",
    "        # Si no se encontró una posición retorna la posición final\n",
    "         return len(self.keys)\n",
    "        #return bisect.bisect_left(self.keys, key)\n",
    "\n",
    "            \n",
    "    def insert(self, key, value):\n",
    "        i = self.getLoc(key)\n",
    "        \n",
    "        if self.num == M:\n",
    "            # Nodo llego, se debe dividir\n",
    "            mid = floor((M + 1) / 2)\n",
    "            sNum = self.num - mid\n",
    "            \n",
    "            # Creamos un nodo Hermano, y a este le asignamos la mitad de los elementos\n",
    "            sibling = LNode()\n",
    "            sibling.num = sNum\n",
    "\n",
    "            sibling.keys = self.keys[mid:]\n",
    "            sibling.values = self.values[mid:]\n",
    "            self.keys = self.keys[:mid]\n",
    "            self.values = self.values[:mid]\n",
    "            self.num = mid\n",
    "            \n",
    "            if i < mid:\n",
    "                self.insertNonFull(key, value, i)\n",
    "            else:\n",
    "                sibling.insertNonFull(key, value, i-mid)\n",
    "                            \n",
    "            # notificar al nodo padre\n",
    "            result = Split(sibling.keys[0], self, sibling)\n",
    "            \n",
    "            return result\n",
    "        \n",
    "        else:\n",
    "            self.insertNonFull(key, value, i)\n",
    "            return None \n",
    "        \n",
    "    def insertNonFull(self, key, value, i):\n",
    "        #print(\"key: {}, val: {}, i: {}\".format(key, value, i))\n",
    "        self.keys.insert(i, key)\n",
    "        self.values.insert(i, value)\n",
    "        self.num += 1    \n",
    "    \n",
    "    def display(self):\n",
    "        print('\\t<LNode>\\t', end='')\n",
    "        \n",
    "        for key, val in zip(self.keys, self.values):\n",
    "            print(\"{} -> {}\\t\".format(key, val), end='')\n",
    "        print('')\n",
    "    \n",
    "    def showChildren(self):\n",
    "        print(\"Children: {}\".format(len(self.values)))\n",
    "        print(\"Children: {}\".format(self.num))\n",
    "        print(\"\")"
   ]
  },
  {
   "cell_type": "code",
   "execution_count": 5,
   "metadata": {},
   "outputs": [],
   "source": [
    "class INode(Node):\n",
    "    \n",
    "    def __init__(self):\n",
    "        super(INode, self).__init__();\n",
    "                \n",
    "        self.children = []\n",
    "    \n",
    "    def getLoc(self, key):\n",
    "         for i, key_i in enumerate(self.keys):\n",
    "            if key_i >= key:\n",
    "                return i\n",
    "        # Si no se encontró una posición retorna la posición final\n",
    "         return len(self.keys)\n",
    "        #return bisect.bisect_left(self.keys, key)\n",
    "            \n",
    "    def insert(self, key, value):        \n",
    "        if self.num == N:\n",
    "            # Dividir\n",
    "            mid = floor((N + 1) / 2)\n",
    "            sNum = self.num - mid\n",
    "            \n",
    "            sibling = INode()\n",
    "            sibling.num = sNum\n",
    "            \n",
    "            sibling.keys = self.keys[mid:]\n",
    "            sibling.children = self.children[mid:]\n",
    "            \n",
    "            self.keys = self.keys[:mid]\n",
    "            self.children = self.children[:mid]\n",
    "            self.num = mid - 1 # El elemento del extremo izq se envia a la parte superior\n",
    "            \n",
    "            result = Split(self.keys[mid-1], self, sibling)\n",
    "            \n",
    "            # insertar en el lado apropiado            \n",
    "            if key < result.key: # menor que cero\n",
    "                self.insertNonFull(key, value)\n",
    "            else:\n",
    "                sibling.insertNonFull(key, value)\n",
    "            \n",
    "            return result\n",
    "        \n",
    "        else:\n",
    "            self.insertNonFull(key, value)\n",
    "            return None\n",
    "        \n",
    "    def insertNonFull(self, key, value):\n",
    "        i = self.getLoc(key)\n",
    "        result = self.children[i].insert(key, value)\n",
    "        \n",
    "        if result is not None:\n",
    "            # Caso contrario no se debe modicar nada\n",
    "            \n",
    "            if i == self.num:\n",
    "                # Insertamos a la derecha\n",
    "                \n",
    "                #self.keys[i] = result.key\n",
    "                #self.children[i] = result.left\n",
    "                #self.children[i+1] = result.right\n",
    "                \n",
    "                \n",
    "                self.keys.insert(i, result.key)\n",
    "                self.children.insert(i, result.left)\n",
    "                self.children.insert(i+1, result.right)\n",
    "                \n",
    "                self.num += 1\n",
    "                \n",
    "            else:\n",
    "                self.children.insert(i, result.left)\n",
    "                self.children.insert(i + 1, result.right)\n",
    "                self.keys.insert(i, result.key)\n",
    "                self.num += 1;              \n",
    "        \n",
    "    def display(self):\n",
    "        print(\"Displaying INode\")\n",
    "\n",
    "        print('<INode>\\t', end='')\n",
    "\n",
    "        for key in self.keys:\n",
    "            print('{}\\t'.format(key), end='')\n",
    "        print(\"\")       \n",
    "\n",
    "        for child in self.children:\n",
    "            if isinstance(child, INode):\n",
    "                print(\"\")\n",
    "            child.display()\n",
    "    \n",
    "    def showChildren(self):\n",
    "        print(\"Children INode: {}\".format(len(self.children)))\n",
    "        print(\"Children INode: {}\".format(self.num))\n",
    "        self.display()\n",
    "        print(\"\")    "
   ]
  },
  {
   "cell_type": "code",
   "execution_count": 6,
   "metadata": {},
   "outputs": [],
   "source": [
    "class BTree:\n",
    "    \n",
    "    def __init__(self, degree):\n",
    "        self.max_leafs = degree - 1\n",
    "        self.max_inner_nodes = degree\n",
    "        \n",
    "        M = self.max_leafs\n",
    "        N = self.max_inner_nodes\n",
    "        \n",
    "        self.root = LNode()\n",
    "    \n",
    "    def insert(self, key, value):\n",
    "        print(\"BEFORE ADD\")\n",
    "        self.root.showChildren()\n",
    "        \n",
    "        print(\"Insertar [{}]={}\".format(key, value))\n",
    "        result = self.root.insert(key, value)\n",
    "        \n",
    "        if result is not None:\n",
    "            # Se dividió la raiz\n",
    "            # Se crea una nueva raiz\n",
    "            _root = INode()\n",
    "            _root.num = 2\n",
    "            _root.keys.insert(0, result.key)           \n",
    "            _root.children.insert(0, result.left)\n",
    "            _root.children.insert(1, result.right)\n",
    "            self.root = _root\n",
    "            \n",
    "        print(\"AFTER ADD\")\n",
    "        self.root.showChildren()\n",
    "        print(\"\")\n",
    "        print(\"- - -\")\n",
    "        print(\"\")\n",
    "    \n",
    "    def find(self, key):\n",
    "        node = self.root\n",
    "        \n",
    "        while isinstance(node, INode):\n",
    "            idx = node.getLoc(key)\n",
    "            node = node.children[idx]\n",
    "        \n",
    "        # Estamos en la hoja\n",
    "        idx = node.getLoc(key)\n",
    "        \n",
    "        if idx < node.num and node.keys[idx] == key:\n",
    "            return node.values[idx]\n",
    "        else:\n",
    "            return None\n",
    "    \n",
    "    def display(self):\n",
    "        self.root.display()"
   ]
  },
  {
   "cell_type": "code",
   "execution_count": 7,
   "metadata": {},
   "outputs": [],
   "source": [
    "tree = BTree(3)"
   ]
  },
  {
   "cell_type": "code",
   "execution_count": 8,
   "metadata": {},
   "outputs": [],
   "source": [
    "# Maximo número de hojas\n",
    "M = 2;\n",
    "\n",
    "# Maximo número de nodos en nodo intermedio\n",
    "N = 3;"
   ]
  },
  {
   "cell_type": "code",
   "execution_count": 9,
   "metadata": {},
   "outputs": [
    {
     "name": "stdout",
     "output_type": "stream",
     "text": [
      "BEFORE ADD\n",
      "Children: 0\n",
      "Children: 0\n",
      "\n",
      "Insertar [1]=1111\n",
      "AFTER ADD\n",
      "Children: 1\n",
      "Children: 1\n",
      "\n",
      "\n",
      "- - -\n",
      "\n"
     ]
    }
   ],
   "source": [
    "tree.insert(1, \"1111\")\n",
    "\n"
   ]
  },
  {
   "cell_type": "code",
   "execution_count": 10,
   "metadata": {},
   "outputs": [
    {
     "name": "stdout",
     "output_type": "stream",
     "text": [
      "BEFORE ADD\n",
      "Children: 1\n",
      "Children: 1\n",
      "\n",
      "Insertar [2]=2222\n",
      "AFTER ADD\n",
      "Children: 2\n",
      "Children: 2\n",
      "\n",
      "\n",
      "- - -\n",
      "\n"
     ]
    }
   ],
   "source": [
    "tree.insert(2, \"2222\")\n"
   ]
  },
  {
   "cell_type": "code",
   "execution_count": 11,
   "metadata": {},
   "outputs": [
    {
     "name": "stdout",
     "output_type": "stream",
     "text": [
      "BEFORE ADD\n",
      "Children: 2\n",
      "Children: 2\n",
      "\n",
      "Insertar [4]=4444\n",
      "AFTER ADD\n",
      "Children INode: 2\n",
      "Children INode: 2\n",
      "Displaying INode\n",
      "<INode>\t2\t\n",
      "\t<LNode>\t1 -> 1111\t\n",
      "\t<LNode>\t2 -> 2222\t4 -> 4444\t\n",
      "\n",
      "\n",
      "- - -\n",
      "\n"
     ]
    }
   ],
   "source": [
    "tree.insert(4, \"4444\")\n"
   ]
  },
  {
   "cell_type": "code",
   "execution_count": 12,
   "metadata": {},
   "outputs": [
    {
     "name": "stdout",
     "output_type": "stream",
     "text": [
      "BEFORE ADD\n",
      "Children INode: 2\n",
      "Children INode: 2\n",
      "Displaying INode\n",
      "<INode>\t2\t\n",
      "\t<LNode>\t1 -> 1111\t\n",
      "\t<LNode>\t2 -> 2222\t4 -> 4444\t\n",
      "\n",
      "Insertar [3]=3333\n",
      "AFTER ADD\n",
      "Children INode: 4\n",
      "Children INode: 3\n",
      "Displaying INode\n",
      "<INode>\t2\t3\t\n",
      "\t<LNode>\t1 -> 1111\t\n",
      "\t<LNode>\t2 -> 2222\t\n",
      "\t<LNode>\t3 -> 3333\t4 -> 4444\t\n",
      "\t<LNode>\t2 -> 2222\t\n",
      "\n",
      "\n",
      "- - -\n",
      "\n"
     ]
    }
   ],
   "source": [
    "tree.insert(3, \"3333\")"
   ]
  },
  {
   "cell_type": "code",
   "execution_count": 13,
   "metadata": {
    "scrolled": true
   },
   "outputs": [
    {
     "name": "stdout",
     "output_type": "stream",
     "text": [
      "1111\n"
     ]
    }
   ],
   "source": [
    "print(tree.find(1))"
   ]
  },
  {
   "cell_type": "code",
   "execution_count": 14,
   "metadata": {
    "scrolled": false
   },
   "outputs": [
    {
     "name": "stdout",
     "output_type": "stream",
     "text": [
      "Displaying INode\n",
      "<INode>\t2\t3\t\n",
      "\t<LNode>\t1 -> 1111\t\n",
      "\t<LNode>\t2 -> 2222\t\n",
      "\t<LNode>\t3 -> 3333\t4 -> 4444\t\n",
      "\t<LNode>\t2 -> 2222\t\n"
     ]
    }
   ],
   "source": [
    "tree.display()"
   ]
  },
  {
   "cell_type": "code",
   "execution_count": 15,
   "metadata": {
    "scrolled": true
   },
   "outputs": [
    {
     "name": "stdout",
     "output_type": "stream",
     "text": [
      "BEFORE ADD\n",
      "Children INode: 4\n",
      "Children INode: 3\n",
      "Displaying INode\n",
      "<INode>\t2\t3\t\n",
      "\t<LNode>\t1 -> 1111\t\n",
      "\t<LNode>\t2 -> 2222\t\n",
      "\t<LNode>\t3 -> 3333\t4 -> 4444\t\n",
      "\t<LNode>\t2 -> 2222\t\n",
      "\n",
      "Insertar [5]=5555\n",
      "AFTER ADD\n",
      "Children INode: 2\n",
      "Children INode: 2\n",
      "Displaying INode\n",
      "<INode>\t3\t\n",
      "\n",
      "Displaying INode\n",
      "<INode>\t2\t3\t\n",
      "\t<LNode>\t1 -> 1111\t\n",
      "\t<LNode>\t2 -> 2222\t\n",
      "\n",
      "Displaying INode\n",
      "<INode>\t4\t\n",
      "\t<LNode>\t3 -> 3333\t\n",
      "\t<LNode>\t4 -> 4444\t5 -> 5555\t\n",
      "\t<LNode>\t3 -> 3333\t\n",
      "\t<LNode>\t2 -> 2222\t\n",
      "\n",
      "\n",
      "- - -\n",
      "\n"
     ]
    }
   ],
   "source": [
    "tree.insert(5, \"5555\")"
   ]
  },
  {
   "cell_type": "code",
   "execution_count": 16,
   "metadata": {},
   "outputs": [
    {
     "name": "stdout",
     "output_type": "stream",
     "text": [
      "Displaying INode\n",
      "<INode>\t3\t\n",
      "\n",
      "Displaying INode\n",
      "<INode>\t2\t3\t\n",
      "\t<LNode>\t1 -> 1111\t\n",
      "\t<LNode>\t2 -> 2222\t\n",
      "\n",
      "Displaying INode\n",
      "<INode>\t4\t\n",
      "\t<LNode>\t3 -> 3333\t\n",
      "\t<LNode>\t4 -> 4444\t5 -> 5555\t\n",
      "\t<LNode>\t3 -> 3333\t\n",
      "\t<LNode>\t2 -> 2222\t\n"
     ]
    }
   ],
   "source": [
    "tree.display()"
   ]
  },
  {
   "cell_type": "code",
   "execution_count": 17,
   "metadata": {
    "scrolled": true
   },
   "outputs": [
    {
     "name": "stdout",
     "output_type": "stream",
     "text": [
      "BEFORE ADD\n",
      "Children INode: 2\n",
      "Children INode: 2\n",
      "Displaying INode\n",
      "<INode>\t3\t\n",
      "\n",
      "Displaying INode\n",
      "<INode>\t2\t3\t\n",
      "\t<LNode>\t1 -> 1111\t\n",
      "\t<LNode>\t2 -> 2222\t\n",
      "\n",
      "Displaying INode\n",
      "<INode>\t4\t\n",
      "\t<LNode>\t3 -> 3333\t\n",
      "\t<LNode>\t4 -> 4444\t5 -> 5555\t\n",
      "\t<LNode>\t3 -> 3333\t\n",
      "\t<LNode>\t2 -> 2222\t\n",
      "\n",
      "Insertar [6]=6666\n",
      "AFTER ADD\n",
      "Children INode: 2\n",
      "Children INode: 2\n",
      "Displaying INode\n",
      "<INode>\t3\t\n",
      "\n",
      "Displaying INode\n",
      "<INode>\t2\t3\t\n",
      "\t<LNode>\t1 -> 1111\t\n",
      "\t<LNode>\t2 -> 2222\t\n",
      "\n",
      "Displaying INode\n",
      "<INode>\t4\t5\t\n",
      "\t<LNode>\t3 -> 3333\t\n",
      "\t<LNode>\t4 -> 4444\t\n",
      "\t<LNode>\t5 -> 5555\t6 -> 6666\t\n",
      "\t<LNode>\t4 -> 4444\t\n",
      "\t<LNode>\t3 -> 3333\t\n",
      "\t<LNode>\t2 -> 2222\t\n",
      "\n",
      "\n",
      "- - -\n",
      "\n"
     ]
    }
   ],
   "source": [
    "tree.insert(6, \"6666\")"
   ]
  },
  {
   "cell_type": "code",
   "execution_count": 18,
   "metadata": {},
   "outputs": [
    {
     "name": "stdout",
     "output_type": "stream",
     "text": [
      "Displaying INode\n",
      "<INode>\t3\t\n",
      "\n",
      "Displaying INode\n",
      "<INode>\t2\t3\t\n",
      "\t<LNode>\t1 -> 1111\t\n",
      "\t<LNode>\t2 -> 2222\t\n",
      "\n",
      "Displaying INode\n",
      "<INode>\t4\t5\t\n",
      "\t<LNode>\t3 -> 3333\t\n",
      "\t<LNode>\t4 -> 4444\t\n",
      "\t<LNode>\t5 -> 5555\t6 -> 6666\t\n",
      "\t<LNode>\t4 -> 4444\t\n",
      "\t<LNode>\t3 -> 3333\t\n",
      "\t<LNode>\t2 -> 2222\t\n"
     ]
    }
   ],
   "source": [
    "tree.display()"
   ]
  },
  {
   "cell_type": "code",
   "execution_count": 19,
   "metadata": {
    "scrolled": true
   },
   "outputs": [
    {
     "name": "stdout",
     "output_type": "stream",
     "text": [
      "BEFORE ADD\n",
      "Children INode: 2\n",
      "Children INode: 2\n",
      "Displaying INode\n",
      "<INode>\t3\t\n",
      "\n",
      "Displaying INode\n",
      "<INode>\t2\t3\t\n",
      "\t<LNode>\t1 -> 1111\t\n",
      "\t<LNode>\t2 -> 2222\t\n",
      "\n",
      "Displaying INode\n",
      "<INode>\t4\t5\t\n",
      "\t<LNode>\t3 -> 3333\t\n",
      "\t<LNode>\t4 -> 4444\t\n",
      "\t<LNode>\t5 -> 5555\t6 -> 6666\t\n",
      "\t<LNode>\t4 -> 4444\t\n",
      "\t<LNode>\t3 -> 3333\t\n",
      "\t<LNode>\t2 -> 2222\t\n",
      "\n",
      "Insertar [9]=9999\n",
      "AFTER ADD\n",
      "Children INode: 4\n",
      "Children INode: 3\n",
      "Displaying INode\n",
      "<INode>\t3\t5\t\n",
      "\n",
      "Displaying INode\n",
      "<INode>\t2\t3\t\n",
      "\t<LNode>\t1 -> 1111\t\n",
      "\t<LNode>\t2 -> 2222\t\n",
      "\n",
      "Displaying INode\n",
      "<INode>\t4\t5\t\n",
      "\t<LNode>\t3 -> 3333\t\n",
      "\t<LNode>\t4 -> 4444\t\n",
      "\n",
      "Displaying INode\n",
      "<INode>\t6\t\n",
      "\t<LNode>\t5 -> 5555\t\n",
      "\t<LNode>\t6 -> 6666\t9 -> 9999\t\n",
      "\t<LNode>\t5 -> 5555\t\n",
      "\t<LNode>\t4 -> 4444\t\n",
      "\t<LNode>\t3 -> 3333\t\n",
      "\t<LNode>\t2 -> 2222\t\n",
      "\n",
      "Displaying INode\n",
      "<INode>\t4\t5\t\n",
      "\t<LNode>\t3 -> 3333\t\n",
      "\t<LNode>\t4 -> 4444\t\n",
      "\n",
      "\n",
      "- - -\n",
      "\n"
     ]
    }
   ],
   "source": [
    "tree.insert(9, \"9999\")"
   ]
  },
  {
   "cell_type": "code",
   "execution_count": 20,
   "metadata": {},
   "outputs": [
    {
     "name": "stdout",
     "output_type": "stream",
     "text": [
      "Displaying INode\n",
      "<INode>\t3\t5\t\n",
      "\n",
      "Displaying INode\n",
      "<INode>\t2\t3\t\n",
      "\t<LNode>\t1 -> 1111\t\n",
      "\t<LNode>\t2 -> 2222\t\n",
      "\n",
      "Displaying INode\n",
      "<INode>\t4\t5\t\n",
      "\t<LNode>\t3 -> 3333\t\n",
      "\t<LNode>\t4 -> 4444\t\n",
      "\n",
      "Displaying INode\n",
      "<INode>\t6\t\n",
      "\t<LNode>\t5 -> 5555\t\n",
      "\t<LNode>\t6 -> 6666\t9 -> 9999\t\n",
      "\t<LNode>\t5 -> 5555\t\n",
      "\t<LNode>\t4 -> 4444\t\n",
      "\t<LNode>\t3 -> 3333\t\n",
      "\t<LNode>\t2 -> 2222\t\n",
      "\n",
      "Displaying INode\n",
      "<INode>\t4\t5\t\n",
      "\t<LNode>\t3 -> 3333\t\n",
      "\t<LNode>\t4 -> 4444\t\n"
     ]
    }
   ],
   "source": [
    "tree.display()"
   ]
  }
 ],
 "metadata": {
  "kernelspec": {
   "display_name": "Python 3",
   "language": "python",
   "name": "python3"
  },
  "language_info": {
   "codemirror_mode": {
    "name": "ipython",
    "version": 3
   },
   "file_extension": ".py",
   "mimetype": "text/x-python",
   "name": "python",
   "nbconvert_exporter": "python",
   "pygments_lexer": "ipython3",
   "version": "3.6.5"
  }
 },
 "nbformat": 4,
 "nbformat_minor": 2
}
