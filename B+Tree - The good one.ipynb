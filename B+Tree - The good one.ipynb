{
 "cells": [
  {
   "cell_type": "markdown",
   "metadata": {},
   "source": [
    "# B+Tree"
   ]
  },
  {
   "cell_type": "code",
   "execution_count": 1,
   "metadata": {},
   "outputs": [],
   "source": [
    "# El módulo abc obliga a las clases derivadas a implemtar\n",
    "# un método particular utilizando @abstractmethod\n",
    "from abc import ABCMeta, abstractmethod\n",
    "\n",
    "# Permite trabajar mejor con listas, insertar conservando el orden\n",
    "import bisect\n",
    "from math import floor as floor\n"
   ]
  },
  {
   "cell_type": "code",
   "execution_count": 2,
   "metadata": {},
   "outputs": [],
   "source": [
    "class Node(metaclass=ABCMeta):  \n",
    "    \n",
    "    def __init__(self):\n",
    "        self.num = 0\n",
    "        self.keys = []\n",
    "        \n",
    "    @abstractmethod\n",
    "    def getLoc(self, key):\n",
    "        \"\"\"Return null si no split. Si no retorna la info del split.\"\"\"\n",
    "        pass\n",
    "    \n",
    "    @abstractmethod\n",
    "    def insert(self, key,value): pass\n",
    "    \n",
    "    @abstractmethod\n",
    "    def display(self): pass\n",
    "    \n",
    "    @abstractmethod\n",
    "    def dump(self): pass"
   ]
  },
  {
   "cell_type": "code",
   "execution_count": 3,
   "metadata": {},
   "outputs": [],
   "source": [
    "class Split:\n",
    "    \n",
    "    # TODO: Refactor Split\n",
    "    \n",
    "    def __init__(self, key, node_leaf, node_right):\n",
    "        self.key = key\n",
    "        self.left = node_leaf\n",
    "        self.right = node_right\n",
    "    "
   ]
  },
  {
   "cell_type": "code",
   "execution_count": 4,
   "metadata": {},
   "outputs": [],
   "source": [
    "class LNode(Node):\n",
    "    \n",
    "    def __init__(self):\n",
    "        super(LNode, self).__init__();\n",
    "        \n",
    "        self.values = []\n",
    "    \n",
    "    def getLoc(self, key):\n",
    "         for i, key_i in enumerate(self.keys):\n",
    "            if key_i >= key:\n",
    "                return i\n",
    "        # Si no se encontró una posición retorna la posición final\n",
    "         return len(self.keys)\n",
    "        #return bisect.bisect_left(self.keys, key)\n",
    "\n",
    "            \n",
    "    def insert(self, key, value):\n",
    "        i = self.getLoc(key)\n",
    "        \n",
    "        if self.num == M:\n",
    "            # Nodo llego, se debe dividir\n",
    "            mid = floor((M + 1) / 2)\n",
    "            sNum = self.num - mid\n",
    "            \n",
    "            # Creamos un nodo Hermano, y a este le asignamos la mitad de los elementos\n",
    "            sibling = LNode()\n",
    "            sibling.num = sNum\n",
    "            #print(\"mid: {}\".format(mid))\n",
    "            sibling.keys = self.keys[mid:]\n",
    "            sibling.values = self.values[mid:]\n",
    "            \n",
    "            self.keys = self.keys[:mid]\n",
    "            self.values = self.values[:mid]\n",
    "            self.num = mid\n",
    "            \n",
    "            if i < mid:\n",
    "                #self.insertNonfull(key, value, i)\n",
    "                self.insertNonFull(key, value, i)\n",
    "            else:\n",
    "                # nuevo valor va a la derecha\n",
    "                # sibling.insertNonfull(key, value, i-mid)\n",
    "                sibling.insertNonFull(key, value, i-mid)\n",
    "                            \n",
    "            # notificar al nodo padre\n",
    "            result = Split(sibling.keys[0], self, sibling)\n",
    "            \n",
    "            return result\n",
    "        \n",
    "        else:\n",
    "            self.insertNonFull(key, value, i)\n",
    "            return None \n",
    "        \n",
    "    def insertNonFull(self, key, value, i):\n",
    "        #print(\"key: {}, val: {}, i: {}\".format(key, value, i))\n",
    "        self.keys.insert(i, key)\n",
    "        self.values.insert(i, value)\n",
    "        self.num += 1          \n",
    "    \n",
    "    def display(self):\n",
    "        print('\\t<LNode>\\t', end='')\n",
    "        \n",
    "        for key, val in zip(self.keys, self.values):\n",
    "            print(\"{} -> {}\\t\".format(key, val), end='')\n",
    "        print('')\n",
    "    \n",
    "    def dump(self):\n",
    "        print(\"LNode h==0\")\n",
    "        for key in self.keys:\n",
    "            print(key)"
   ]
  },
  {
   "cell_type": "code",
   "execution_count": 5,
   "metadata": {},
   "outputs": [],
   "source": [
    "class INode(Node):\n",
    "    \n",
    "    def __init__(self):\n",
    "        super(INode, self).__init__();\n",
    "                \n",
    "        self.children = []\n",
    "    \n",
    "    def getLoc(self, key):\n",
    "         for i, key_i in enumerate(self.keys):\n",
    "            if key_i >= key:\n",
    "                return i\n",
    "        # Si no se encontró una posición retorna la posición final\n",
    "         return len(self.keys)\n",
    "        #return bisect.bisect_left(self.keys, key)\n",
    "            \n",
    "    def insert(self, key, value):\n",
    "        if self.num == N:\n",
    "            # Dividir\n",
    "            mid = floor((N + 1) / 2)\n",
    "            sNum = self.num - mid\n",
    "            \n",
    "            sibling = INode()\n",
    "            sibling.num = sNum\n",
    "            \n",
    "            sibling.keys = self.keys[mid:]\n",
    "            sibling.children = self.children[mid:]\n",
    "            \n",
    "            self.keys = self.keys[:mid]\n",
    "            self.children = self.children[:mid]\n",
    "            self.num = mid - 1 #\n",
    "            \n",
    "            result = Split(self.keys[mid - 1], self, sibling)\n",
    "            \n",
    "            # insertar en el lado apropiado            \n",
    "            if key <= result.key: # menor que cero\n",
    "                self.insertNonFull(key, value)\n",
    "            else:\n",
    "                sibling.insertNonFull(key, value)\n",
    "            \n",
    "            return result\n",
    "        \n",
    "        else:\n",
    "            self.insertNonFull(key, value)\n",
    "            return None\n",
    "        \n",
    "    def insertNonFull(self, key, value):\n",
    "        i = self.getLoc(key)\n",
    "        #print(\"i:{}\".format(i))\n",
    "        #print(self.children)\n",
    "        result = self.children[i].insert(key, value)\n",
    "        \n",
    "        if result is not None:\n",
    "            # Caso contrario no se debe modicar nada\n",
    "            \n",
    "            if i == self.num:\n",
    "                # Insertamos a la derecha\n",
    "                \n",
    "                #self.keys[i] = result.key\n",
    "                #self.children[i] = result.left\n",
    "                #self.children[i+1] = result.right\n",
    "                \n",
    "                \n",
    "                self.keys.insert(i, result.key)\n",
    "                self.children.insert(i, result.left)\n",
    "                self.children.insert(i+1, result.right)\n",
    "                \n",
    "                self.num += 1\n",
    "                \n",
    "            else:\n",
    "                self.children.insert(i, result.left)\n",
    "                self.children.insert(i + 1, result.right)\n",
    "                self.keys.insert(i, result.key)\n",
    "                self.num += 1;              \n",
    "        \n",
    "    def display(self):\n",
    "        print(\"Displaying INode\")\n",
    "\n",
    "        print('<INode>\\t', end='')\n",
    "\n",
    "        for key in self.keys:\n",
    "            print('{}\\t'.format(key), end='')\n",
    "        print(\"\")\n",
    "\n",
    "        for child in self.children:\n",
    "            if isinstance(child, INode):\n",
    "                print(\"\")\n",
    "            child.display()\n",
    "    \n",
    "    def dump(self):\n",
    "        print(\"INode h==0\")\n",
    "        for i, key, child in zip(self.keys, self.children):\n",
    "                child.dump()                \n",
    "                print(\"> {key}\".format(key))            \n",
    "                \n",
    "        self.children[self.num].dump();       "
   ]
  },
  {
   "cell_type": "code",
   "execution_count": 6,
   "metadata": {},
   "outputs": [],
   "source": [
    "class BTree:\n",
    "    \n",
    "    def __init__(self, degree):\n",
    "        self.max_leafs = degree - 1\n",
    "        self.max_inner_nodes = degree\n",
    "        \n",
    "        M = self.max_leafs\n",
    "        N = self.max_inner_nodes\n",
    "        \n",
    "        self.root = LNode()\n",
    "    \n",
    "    def insert(self, key, value):\n",
    "        print(\"Insertar [{}]={}\".format(key, value))\n",
    "        result = self.root.insert(key, value)\n",
    "        \n",
    "        if result is not None:\n",
    "            #print(result.key)\n",
    "            # Se dividió la raiz\n",
    "            # Se crea una nueva raiz\n",
    "            _root = INode()\n",
    "            _root.num = 1\n",
    "            #_root.keys[0] = result.key\n",
    "            #_root.keys.append(result.key)\n",
    "            _root.keys.insert(0, result.key)\n",
    "            #_root.children[0] = result.left\n",
    "            #_root.children[1] = result.right\n",
    "            \n",
    "            _root.children.insert(0, result.left)\n",
    "            \n",
    "            _root.children.insert(1, result.right)\n",
    "            \n",
    "            #_root.children.append(result.left)\n",
    "            #_root.children.append(result.right)\n",
    "            self.root = _root\n",
    "    \n",
    "    def find(self, key):\n",
    "        node = self.root\n",
    "        \n",
    "        while isinstance(node, INode):\n",
    "            inner = node\n",
    "            idx = inner.getLoc(key)\n",
    "            node = inner.children[idx]\n",
    "        \n",
    "        # Estamos en la hoja\n",
    "        idx = node.getLoc(key)\n",
    "        \n",
    "        if idx < node.num and node.keys[idx] == key:\n",
    "            return node.values[idx]\n",
    "        else:\n",
    "            return None\n",
    "    \n",
    "    def display(self):\n",
    "        self.root.display()\n",
    "    \n",
    "    def dump(self):\n",
    "        self.root.dump()\n",
    "    "
   ]
  },
  {
   "cell_type": "code",
   "execution_count": 7,
   "metadata": {},
   "outputs": [],
   "source": [
    "tree = BTree(3)"
   ]
  },
  {
   "cell_type": "code",
   "execution_count": 8,
   "metadata": {},
   "outputs": [],
   "source": [
    "# Maximo número de hojas\n",
    "M = 2;\n",
    "\n",
    "# Maximo número de nodos en nodo intermedio\n",
    "N = 3;"
   ]
  },
  {
   "cell_type": "code",
   "execution_count": 9,
   "metadata": {},
   "outputs": [
    {
     "name": "stdout",
     "output_type": "stream",
     "text": [
      "Insertar [1]=1111\n",
      "Insertar [2]=2222\n",
      "Insertar [4]=4444\n",
      "Insertar [3]=3333\n"
     ]
    }
   ],
   "source": [
    "tree.insert(1, \"1111\")\n",
    "tree.insert(2, \"2222\")\n",
    "tree.insert(4, \"4444\")\n",
    "tree.insert(3, \"3333\")\n"
   ]
  },
  {
   "cell_type": "code",
   "execution_count": 16,
   "metadata": {
    "scrolled": true
   },
   "outputs": [
    {
     "name": "stdout",
     "output_type": "stream",
     "text": [
      "1111\n"
     ]
    }
   ],
   "source": [
    "print(tree.find(1))"
   ]
  },
  {
   "cell_type": "code",
   "execution_count": 11,
   "metadata": {
    "scrolled": false
   },
   "outputs": [
    {
     "name": "stdout",
     "output_type": "stream",
     "text": [
      "Displaying INode\n",
      "<INode>\t2\t3\t\n",
      "\t<LNode>\t1 -> 1111\t\n",
      "\t<LNode>\t2 -> 2222\t\n",
      "\t<LNode>\t3 -> 3333\t4 -> 4444\t\n",
      "\t<LNode>\t2 -> 2222\t\n"
     ]
    }
   ],
   "source": [
    "tree.display()"
   ]
  },
  {
   "cell_type": "code",
   "execution_count": 12,
   "metadata": {
    "scrolled": true
   },
   "outputs": [
    {
     "name": "stdout",
     "output_type": "stream",
     "text": [
      "Insertar [5]=5555\n"
     ]
    }
   ],
   "source": [
    "tree.insert(5, \"5555\")"
   ]
  },
  {
   "cell_type": "code",
   "execution_count": 13,
   "metadata": {},
   "outputs": [
    {
     "name": "stdout",
     "output_type": "stream",
     "text": [
      "Displaying INode\n",
      "<INode>\t2\t3\t4\t\n",
      "\t<LNode>\t1 -> 1111\t\n",
      "\t<LNode>\t2 -> 2222\t\n",
      "\t<LNode>\t3 -> 3333\t\n",
      "\t<LNode>\t4 -> 4444\t5 -> 5555\t\n",
      "\t<LNode>\t3 -> 3333\t\n",
      "\t<LNode>\t2 -> 2222\t\n"
     ]
    }
   ],
   "source": [
    "tree.display()"
   ]
  },
  {
   "cell_type": "code",
   "execution_count": 14,
   "metadata": {
    "scrolled": true
   },
   "outputs": [
    {
     "name": "stdout",
     "output_type": "stream",
     "text": [
      "Insertar [6]=6666\n"
     ]
    }
   ],
   "source": [
    "tree.insert(6, \"6666\")"
   ]
  },
  {
   "cell_type": "code",
   "execution_count": 15,
   "metadata": {},
   "outputs": [
    {
     "name": "stdout",
     "output_type": "stream",
     "text": [
      "Displaying INode\n",
      "<INode>\t3\t\n",
      "\n",
      "Displaying INode\n",
      "<INode>\t2\t3\t\n",
      "\t<LNode>\t1 -> 1111\t\n",
      "\t<LNode>\t2 -> 2222\t\n",
      "\n",
      "Displaying INode\n",
      "<INode>\t4\t5\t\n",
      "\t<LNode>\t3 -> 3333\t\n",
      "\t<LNode>\t4 -> 4444\t\n",
      "\t<LNode>\t5 -> 5555\t6 -> 6666\t\n",
      "\t<LNode>\t4 -> 4444\t\n",
      "\t<LNode>\t3 -> 3333\t\n",
      "\t<LNode>\t2 -> 2222\t\n"
     ]
    }
   ],
   "source": [
    "tree.display()"
   ]
  }
 ],
 "metadata": {
  "kernelspec": {
   "display_name": "Python 3",
   "language": "python",
   "name": "python3"
  },
  "language_info": {
   "codemirror_mode": {
    "name": "ipython",
    "version": 3
   },
   "file_extension": ".py",
   "mimetype": "text/x-python",
   "name": "python",
   "nbconvert_exporter": "python",
   "pygments_lexer": "ipython3",
   "version": "3.6.5"
  }
 },
 "nbformat": 4,
 "nbformat_minor": 2
}
