{
 "cells": [
  {
   "cell_type": "markdown",
   "metadata": {},
   "source": [
    "# Port of java program\n",
    "[https://en.wikibooks.org/wiki/Algorithm_Implementation/Trees/B%2B_tree](https://en.wikibooks.org/wiki/Algorithm_Implementation/Trees/B%2B_tree)"
   ]
  },
  {
   "cell_type": "code",
   "execution_count": 1,
   "metadata": {},
   "outputs": [],
   "source": [
    "# El módulo abc obliga a las clases derivadas a implemtar\n",
    "# un método particular utilizando @abstractmethod\n",
    "from abc import ABCMeta, abstractmethod\n",
    "\n",
    "# Permite trabajar mejor con listas, insertar conservando el orden\n",
    "import bisect\n"
   ]
  },
  {
   "cell_type": "code",
   "execution_count": 2,
   "metadata": {},
   "outputs": [],
   "source": [
    "# Maximo número de hojas\n",
    "M = 4;"
   ]
  },
  {
   "cell_type": "code",
   "execution_count": 3,
   "metadata": {},
   "outputs": [],
   "source": [
    "class Node(metaclass=ABCMeta):  \n",
    "    \n",
    "    def __init__(self):\n",
    "        self.num = 0\n",
    "        self.keys = []\n",
    "        \n",
    "    @abstractmethod\n",
    "    def getLoc(self, key):\n",
    "        \"\"\"Return null si no split. Si no retorna la info del split.\"\"\"\n",
    "        pass\n",
    "    \n",
    "    @abstractmethod\n",
    "    def insert(self, key,value): pass\n",
    "    \n",
    "    @abstractmethod\n",
    "    def dump(self): pass"
   ]
  },
  {
   "cell_type": "code",
   "execution_count": 4,
   "metadata": {},
   "outputs": [],
   "source": [
    "class Split:\n",
    "    \n",
    "    # TODO: Refactor Split\n",
    "    \n",
    "    def __init__(self, key, node_leaf, right):\n",
    "        self.key = key\n",
    "        self.left = node_leaf\n",
    "        self.right = node_right\n",
    "    "
   ]
  },
  {
   "cell_type": "code",
   "execution_count": 5,
   "metadata": {},
   "outputs": [],
   "source": [
    "class LNode(Node):\n",
    "    \n",
    "    def __init__(self):\n",
    "        super(LNode, self).__init__();\n",
    "        \n",
    "        self.values = []\n",
    "    \n",
    "    def getLoc(self, key):\n",
    "        \"\"\"Busqueda lineal\"\"\"\n",
    "        # for i, key_i in enumerate(self.keys):\n",
    "        #    if key_i >= key:\n",
    "        #        return i\n",
    "        # Si no se encontró una posición retorna la posición final\n",
    "        # return len(self.keys)\n",
    "        pass\n",
    "            \n",
    "    def insert(self, key, value):\n",
    "        i = bisect.bisect_left(self,keys, key)\n",
    "        \n",
    "        if self.num == M:\n",
    "            # Nodo llego, se debe dividir\n",
    "            mid = (M + 1) / 2\n",
    "            sNum = self.num - mid\n",
    "            \n",
    "            # Creamos un nodo Hermano, y a este le asignamos la mitad de los elementos\n",
    "            sibling = LNode()\n",
    "            sibling.num = sNum\n",
    "            sibling.keys = self.keys[mid:]\n",
    "            sibling.values = self.values[mid:]\n",
    "            \n",
    "            self.keys = self.keys[:mid]\n",
    "            self.values = self.values[:mid]\n",
    "            self.num = mid\n",
    "            \n",
    "            if i > mid:\n",
    "                # nuevo valor va a la derecha\n",
    "                # sibling.insertNonfull(key, value, i-mid)\n",
    "                sibling.keys.append((key, i-mid))\n",
    "            else:\n",
    "                #self.insertNonfull(key, value, i)\n",
    "                self.keys.append((key, i))\n",
    "\n",
    "            \n",
    "            # notificar al nodo padre\n",
    "            result = Split(sibling.keys[0], self, sibling)\n",
    "            \n",
    "            return result\n",
    "        \n",
    "        else:\n",
    "            self.keys.append((key, i))\n",
    "            \n",
    "\n",
    "            return null        \n",
    "    \n",
    "    def dump(self):\n",
    "        print(\"LNode h==0\")\n",
    "        for key in self.keys:\n",
    "            print(key)\n",
    "        "
   ]
  },
  {
   "cell_type": "code",
   "execution_count": 6,
   "metadata": {},
   "outputs": [],
   "source": [
    "lnode = LNode()"
   ]
  },
  {
   "cell_type": "code",
   "execution_count": 7,
   "metadata": {},
   "outputs": [
    {
     "name": "stdout",
     "output_type": "stream",
     "text": [
      "LNode h==0\n"
     ]
    }
   ],
   "source": [
    "lnode.dump()"
   ]
  },
  {
   "cell_type": "code",
   "execution_count": null,
   "metadata": {},
   "outputs": [],
   "source": []
  }
 ],
 "metadata": {
  "kernelspec": {
   "display_name": "Python 3",
   "language": "python",
   "name": "python3"
  },
  "language_info": {
   "codemirror_mode": {
    "name": "ipython",
    "version": 3
   },
   "file_extension": ".py",
   "mimetype": "text/x-python",
   "name": "python",
   "nbconvert_exporter": "python",
   "pygments_lexer": "ipython3",
   "version": "3.6.5"
  }
 },
 "nbformat": 4,
 "nbformat_minor": 2
}
