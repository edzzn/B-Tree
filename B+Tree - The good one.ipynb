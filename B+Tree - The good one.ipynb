{
 "cells": [
  {
   "cell_type": "markdown",
   "metadata": {},
   "source": [
    "# B+Tree"
   ]
  },
  {
   "cell_type": "code",
   "execution_count": 1,
   "metadata": {},
   "outputs": [],
   "source": [
    "# El módulo abc obliga a las clases derivadas a implemtar\n",
    "# un método particular utilizando @abstractmethod\n",
    "from abc import ABCMeta, abstractmethod\n",
    "\n",
    "# Permite trabajar mejor con listas, insertar conservando el orden\n",
    "import bisect\n",
    "from math import floor as floor\n"
   ]
  },
  {
   "cell_type": "code",
   "execution_count": 2,
   "metadata": {},
   "outputs": [
    {
     "data": {
      "text/plain": [
       "5"
      ]
     },
     "execution_count": 2,
     "metadata": {},
     "output_type": "execute_result"
    }
   ],
   "source": [
    "floor(5.25)"
   ]
  },
  {
   "cell_type": "code",
   "execution_count": 3,
   "metadata": {},
   "outputs": [],
   "source": [
    "class Node(metaclass=ABCMeta):  \n",
    "    \n",
    "    def __init__(self):\n",
    "        self.num = 0\n",
    "        self.keys = []\n",
    "        \n",
    "    @abstractmethod\n",
    "    def getLoc(self, key):\n",
    "        \"\"\"Return null si no split. Si no retorna la info del split.\"\"\"\n",
    "        pass\n",
    "    \n",
    "    @abstractmethod\n",
    "    def insert(self, key,value): pass\n",
    "    \n",
    "    @abstractmethod\n",
    "    def dump(self): pass"
   ]
  },
  {
   "cell_type": "code",
   "execution_count": 4,
   "metadata": {},
   "outputs": [],
   "source": [
    "class Split:\n",
    "    \n",
    "    # TODO: Refactor Split\n",
    "    \n",
    "    def __init__(self, key, node_leaf, node_right):\n",
    "        self.key = key\n",
    "        self.left = node_leaf\n",
    "        self.right = node_right\n",
    "    "
   ]
  },
  {
   "cell_type": "code",
   "execution_count": 5,
   "metadata": {},
   "outputs": [],
   "source": [
    "class LNode(Node):\n",
    "    \n",
    "    def __init__(self):\n",
    "        super(LNode, self).__init__();\n",
    "        \n",
    "        self.values = []\n",
    "    \n",
    "    def getLoc(self, key):\n",
    "        \"\"\"Busqueda lineal\"\"\"\n",
    "        # for i, key_i in enumerate(self.keys):\n",
    "        #    if key_i >= key:\n",
    "        #        return i\n",
    "        # Si no se encontró una posición retorna la posición final\n",
    "        # return len(self.keys)\n",
    "        return bisect.bisect_left(self.keys, key)\n",
    "\n",
    "            \n",
    "    def insert(self, key, value):\n",
    "        i = self.getLoc(key)\n",
    "        \n",
    "        if self.num == M:\n",
    "            # Nodo llego, se debe dividir\n",
    "            mid = floor((M + 1) / 2)\n",
    "            sNum = self.num - mid\n",
    "            \n",
    "            # Creamos un nodo Hermano, y a este le asignamos la mitad de los elementos\n",
    "            sibling = LNode()\n",
    "            sibling.num = sNum\n",
    "            print(\"mid: {}\".format(mid))\n",
    "            sibling.keys = self.keys[mid:]\n",
    "            sibling.values = self.values[mid:]\n",
    "            \n",
    "            self.keys = self.keys[:mid]\n",
    "            self.values = self.values[:mid]\n",
    "            self.num = mid\n",
    "            \n",
    "            if i < mid:\n",
    "                #self.insertNonfull(key, value, i)\n",
    "                self.insertNonFull(key, value, i)\n",
    "            else:\n",
    "                # nuevo valor va a la derecha\n",
    "                # sibling.insertNonfull(key, value, i-mid)\n",
    "                sibling.insertNonFull(key, value, i-mid)\n",
    "                            \n",
    "            # notificar al nodo padre\n",
    "            result = Split(sibling.keys[0], self, sibling)\n",
    "            \n",
    "            return result\n",
    "        \n",
    "        else:\n",
    "            self.insertNonFull(key, value, i)\n",
    "            return None \n",
    "        \n",
    "    def insertNonFull(self, key, value, i):\n",
    "        self.keys.insert(i, key)\n",
    "        self.values.insert(i, value)\n",
    "        self.num += 1          \n",
    "    \n",
    "    def dump(self):\n",
    "        print(\"LNode h==0\")\n",
    "        for key in self.keys:\n",
    "            print(key)"
   ]
  },
  {
   "cell_type": "code",
   "execution_count": 6,
   "metadata": {},
   "outputs": [],
   "source": [
    "class INode(Node):\n",
    "    \n",
    "    def __init__(self):\n",
    "        super(INode, self).__init__();\n",
    "                \n",
    "        self.children = [None] * N\n",
    "    \n",
    "    def getLoc(self, key):\n",
    "        # for i, key_i in enumerate(self.keys):\n",
    "        #    if key_i >= key:\n",
    "        #        return i\n",
    "        # Si no se encontró una posición retorna la posición final\n",
    "        # return len(self.keys)\n",
    "        return bisect.bisect_left(self.keys, key)\n",
    "            \n",
    "    def insert(self, key, value):\n",
    "        if self.num == N:\n",
    "            # Dividir\n",
    "            mid = floor((N + 1) / 2)\n",
    "            sNum = self.num - mid\n",
    "            \n",
    "            sibling = INode()\n",
    "            sibling.num = sNum\n",
    "            \n",
    "            sibling.keys = self.keys[mid:]\n",
    "            sibling.children = self.children[mid:]\n",
    "            \n",
    "            self.keys = self.keys[:mid]\n",
    "            self.children = self.children[:mid]\n",
    "            self.num = mid - 1 #\n",
    "            \n",
    "            result = Split(self.keys[mid - 1], self, sibling)\n",
    "            \n",
    "            # insertar en el lado apropiado            \n",
    "            if key <= result.key: # menor que cero\n",
    "                self.insertNonFull(key, value)\n",
    "            else:\n",
    "                sibling.insertNonFull(key, value)\n",
    "            \n",
    "            return result\n",
    "        \n",
    "        else:\n",
    "            self.insertNonFull(key, value)\n",
    "            return None\n",
    "        \n",
    "    def insertNonFull(self, key, value):\n",
    "        i = self.getLoc(key)\n",
    "        print(\"i:{}\".format(i))\n",
    "        print(self.children)\n",
    "        result = self.children[i].insert(key, value)\n",
    "        \n",
    "        if result is not None:\n",
    "            # Caso contrario no se debe modicar nada\n",
    "            \n",
    "            if i == self.num:\n",
    "                # Insertamos a la derecha\n",
    "                \n",
    "                self.keys[i] = result.key\n",
    "                self.children[i] = result.left\n",
    "                self.children[i+1] = result.right\n",
    "                self.num += 1\n",
    "                \n",
    "            else:\n",
    "                self.children.insert(i, result.left)\n",
    "                self.children.insert(i + 1, result.right)\n",
    "                self.keys.insert(i, result.key)\n",
    "                self.num += 1;              \n",
    "        \n",
    "    \n",
    "    def dump(self):\n",
    "        print(\"INode h==0\")\n",
    "        for i, key, child in zip(self.keys, self.children):\n",
    "                child.dump()                \n",
    "                print(\"> {key}\".format(key))            \n",
    "                \n",
    "        self.children[self.num].dump();       "
   ]
  },
  {
   "cell_type": "code",
   "execution_count": 7,
   "metadata": {},
   "outputs": [],
   "source": [
    "class BTree:\n",
    "    \n",
    "    def __init__(self, degree):\n",
    "        self.max_leafs = degree - 1\n",
    "        self.max_inner_nodes = degree\n",
    "        \n",
    "        M = self.max_leafs\n",
    "        N = self.max_inner_nodes\n",
    "        \n",
    "        self.root = LNode()\n",
    "    \n",
    "    def insert(self, key, value):\n",
    "        print(\"Insertar [{}]={}\".format(key, value))\n",
    "        result = self.root.insert(key, value)\n",
    "        \n",
    "        if result is not None:\n",
    "            print(result.key)\n",
    "            # Se dividió la raiz\n",
    "            # Se crea una nueva raiz\n",
    "            _root = INode()\n",
    "            _root.num = 1\n",
    "            #_root.keys[0] = result.key\n",
    "            #_root.keys.append(result.key)\n",
    "            _root.keys.insert(0, result.key)\n",
    "            #_root.children[0] = result.left\n",
    "            #_root.children[1] = result.right\n",
    "            \n",
    "            _root.children.insert(0, result.left)\n",
    "            \n",
    "            _root.children.insert(1, result.right)\n",
    "            \n",
    "            #_root.children.append(result.left)\n",
    "            #_root.children.append(result.right)\n",
    "            self.root = _root\n",
    "    \n",
    "    def find(self, key):\n",
    "        node = self.root\n",
    "        \n",
    "        while isinstance(node, INode):\n",
    "            inner = node\n",
    "            idx = inner.getLoc(key)\n",
    "            node = inner.children[idx]\n",
    "        \n",
    "        # Estamos en la hoja\n",
    "        idx = node.getLoc(key)\n",
    "        \n",
    "        if idx < node.num and node.keys[idx] == key:\n",
    "            return node.values[idx]\n",
    "        else:\n",
    "            return None\n",
    "    \n",
    "    def show(self):\n",
    "        node = self.root\n",
    "        \n",
    "        print(node.children)\n",
    "    \n",
    "    def dump(self):\n",
    "        self.root.dump()\n",
    "    "
   ]
  },
  {
   "cell_type": "code",
   "execution_count": 8,
   "metadata": {},
   "outputs": [],
   "source": [
    "tree = BTree(4)"
   ]
  },
  {
   "cell_type": "code",
   "execution_count": 9,
   "metadata": {},
   "outputs": [],
   "source": [
    "# Maximo número de hojas\n",
    "M = 3;\n",
    "\n",
    "# Maximo número de nodos en nodo intermedio\n",
    "N = 4;"
   ]
  },
  {
   "cell_type": "code",
   "execution_count": 10,
   "metadata": {},
   "outputs": [
    {
     "name": "stdout",
     "output_type": "stream",
     "text": [
      "None\n"
     ]
    }
   ],
   "source": [
    "print(tree.find(5))"
   ]
  },
  {
   "cell_type": "code",
   "execution_count": 11,
   "metadata": {},
   "outputs": [
    {
     "name": "stdout",
     "output_type": "stream",
     "text": [
      "Insertar [1]=1111\n",
      "Insertar [2]=2222\n",
      "Insertar [3]=3333\n",
      "Insertar [4]=4444\n",
      "mid: 2\n",
      "3\n"
     ]
    }
   ],
   "source": [
    "tree.insert(1, \"1111\")\n",
    "tree.insert(2, \"2222\")\n",
    "tree.insert(3, \"3333\")\n",
    "tree.insert(4, \"4444\")\n"
   ]
  },
  {
   "cell_type": "code",
   "execution_count": 12,
   "metadata": {},
   "outputs": [
    {
     "name": "stdout",
     "output_type": "stream",
     "text": [
      "4444\n"
     ]
    }
   ],
   "source": [
    "print(tree.find(4))"
   ]
  },
  {
   "cell_type": "code",
   "execution_count": 13,
   "metadata": {
    "scrolled": true
   },
   "outputs": [
    {
     "name": "stdout",
     "output_type": "stream",
     "text": [
      "[<__main__.LNode object at 0x000001D4B66E1278>, <__main__.LNode object at 0x000001D4B66EB320>, None, None, None, None]\n"
     ]
    }
   ],
   "source": [
    "tree.show()"
   ]
  },
  {
   "cell_type": "code",
   "execution_count": 17,
   "metadata": {},
   "outputs": [
    {
     "name": "stdout",
     "output_type": "stream",
     "text": [
      "Insertar [1]=1111\n",
      "i:0\n",
      "[<__main__.LNode object at 0x000001D4B66E1278>, <__main__.LNode object at 0x000001D4B66EBB38>, <__main__.LNode object at 0x000001D4B66E1278>, <__main__.LNode object at 0x000001D4B66EB320>, None, None, None, None]\n",
      "mid: 2\n",
      "Insertar [2]=2222\n",
      "i:0\n",
      "[<__main__.LNode object at 0x000001D4B66E1278>, <__main__.LNode object at 0x000001D4B66EBFD0>, <__main__.LNode object at 0x000001D4B66E1278>, <__main__.LNode object at 0x000001D4B66EBB38>, <__main__.LNode object at 0x000001D4B66E1278>, <__main__.LNode object at 0x000001D4B66EB320>, None, None, None, None]\n",
      "mid: 2\n",
      "Insertar [3]=3333\n",
      "i:1\n",
      "[<__main__.LNode object at 0x000001D4B66E1278>, <__main__.LNode object at 0x000001D4B66EBDA0>]\n",
      "4\n",
      "Insertar [4]=4444\n",
      "i:0\n",
      "[<__main__.INode object at 0x000001D4B66EB6A0>, <__main__.INode object at 0x000001D4B66EBE10>, None, None, None, None]\n",
      "i:1\n",
      "[<__main__.LNode object at 0x000001D4B66E1278>, <__main__.LNode object at 0x000001D4B66EBDA0>]\n",
      "mid: 2\n"
     ]
    },
    {
     "ename": "AttributeError",
     "evalue": "'INode' object has no attribute 'childre'",
     "output_type": "error",
     "traceback": [
      "\u001b[1;31m---------------------------------------------------------------------------\u001b[0m",
      "\u001b[1;31mAttributeError\u001b[0m                            Traceback (most recent call last)",
      "\u001b[1;32m<ipython-input-17-0e281c2aad24>\u001b[0m in \u001b[0;36m<module>\u001b[1;34m()\u001b[0m\n\u001b[0;32m      2\u001b[0m \u001b[0mtree\u001b[0m\u001b[1;33m.\u001b[0m\u001b[0minsert\u001b[0m\u001b[1;33m(\u001b[0m\u001b[1;36m2\u001b[0m\u001b[1;33m,\u001b[0m \u001b[1;34m\"2222\"\u001b[0m\u001b[1;33m)\u001b[0m\u001b[1;33m\u001b[0m\u001b[0m\n\u001b[0;32m      3\u001b[0m \u001b[0mtree\u001b[0m\u001b[1;33m.\u001b[0m\u001b[0minsert\u001b[0m\u001b[1;33m(\u001b[0m\u001b[1;36m3\u001b[0m\u001b[1;33m,\u001b[0m \u001b[1;34m\"3333\"\u001b[0m\u001b[1;33m)\u001b[0m\u001b[1;33m\u001b[0m\u001b[0m\n\u001b[1;32m----> 4\u001b[1;33m \u001b[0mtree\u001b[0m\u001b[1;33m.\u001b[0m\u001b[0minsert\u001b[0m\u001b[1;33m(\u001b[0m\u001b[1;36m4\u001b[0m\u001b[1;33m,\u001b[0m \u001b[1;34m\"4444\"\u001b[0m\u001b[1;33m)\u001b[0m\u001b[1;33m\u001b[0m\u001b[0m\n\u001b[0m",
      "\u001b[1;32m<ipython-input-7-34b5fdcaa317>\u001b[0m in \u001b[0;36minsert\u001b[1;34m(self, key, value)\u001b[0m\n\u001b[0;32m     12\u001b[0m     \u001b[1;32mdef\u001b[0m \u001b[0minsert\u001b[0m\u001b[1;33m(\u001b[0m\u001b[0mself\u001b[0m\u001b[1;33m,\u001b[0m \u001b[0mkey\u001b[0m\u001b[1;33m,\u001b[0m \u001b[0mvalue\u001b[0m\u001b[1;33m)\u001b[0m\u001b[1;33m:\u001b[0m\u001b[1;33m\u001b[0m\u001b[0m\n\u001b[0;32m     13\u001b[0m         \u001b[0mprint\u001b[0m\u001b[1;33m(\u001b[0m\u001b[1;34m\"Insertar [{}]={}\"\u001b[0m\u001b[1;33m.\u001b[0m\u001b[0mformat\u001b[0m\u001b[1;33m(\u001b[0m\u001b[0mkey\u001b[0m\u001b[1;33m,\u001b[0m \u001b[0mvalue\u001b[0m\u001b[1;33m)\u001b[0m\u001b[1;33m)\u001b[0m\u001b[1;33m\u001b[0m\u001b[0m\n\u001b[1;32m---> 14\u001b[1;33m         \u001b[0mresult\u001b[0m \u001b[1;33m=\u001b[0m \u001b[0mself\u001b[0m\u001b[1;33m.\u001b[0m\u001b[0mroot\u001b[0m\u001b[1;33m.\u001b[0m\u001b[0minsert\u001b[0m\u001b[1;33m(\u001b[0m\u001b[0mkey\u001b[0m\u001b[1;33m,\u001b[0m \u001b[0mvalue\u001b[0m\u001b[1;33m)\u001b[0m\u001b[1;33m\u001b[0m\u001b[0m\n\u001b[0m\u001b[0;32m     15\u001b[0m \u001b[1;33m\u001b[0m\u001b[0m\n\u001b[0;32m     16\u001b[0m         \u001b[1;32mif\u001b[0m \u001b[0mresult\u001b[0m \u001b[1;32mis\u001b[0m \u001b[1;32mnot\u001b[0m \u001b[1;32mNone\u001b[0m\u001b[1;33m:\u001b[0m\u001b[1;33m\u001b[0m\u001b[0m\n",
      "\u001b[1;32m<ipython-input-6-a02c19f7b8a2>\u001b[0m in \u001b[0;36minsert\u001b[1;34m(self, key, value)\u001b[0m\n\u001b[0;32m     41\u001b[0m \u001b[1;33m\u001b[0m\u001b[0m\n\u001b[0;32m     42\u001b[0m         \u001b[1;32melse\u001b[0m\u001b[1;33m:\u001b[0m\u001b[1;33m\u001b[0m\u001b[0m\n\u001b[1;32m---> 43\u001b[1;33m             \u001b[0mself\u001b[0m\u001b[1;33m.\u001b[0m\u001b[0minsertNonFull\u001b[0m\u001b[1;33m(\u001b[0m\u001b[0mkey\u001b[0m\u001b[1;33m,\u001b[0m \u001b[0mvalue\u001b[0m\u001b[1;33m)\u001b[0m\u001b[1;33m\u001b[0m\u001b[0m\n\u001b[0m\u001b[0;32m     44\u001b[0m             \u001b[1;32mreturn\u001b[0m \u001b[1;32mNone\u001b[0m\u001b[1;33m\u001b[0m\u001b[0m\n\u001b[0;32m     45\u001b[0m \u001b[1;33m\u001b[0m\u001b[0m\n",
      "\u001b[1;32m<ipython-input-6-a02c19f7b8a2>\u001b[0m in \u001b[0;36minsertNonFull\u001b[1;34m(self, key, value)\u001b[0m\n\u001b[0;32m     48\u001b[0m         \u001b[0mprint\u001b[0m\u001b[1;33m(\u001b[0m\u001b[1;34m\"i:{}\"\u001b[0m\u001b[1;33m.\u001b[0m\u001b[0mformat\u001b[0m\u001b[1;33m(\u001b[0m\u001b[0mi\u001b[0m\u001b[1;33m)\u001b[0m\u001b[1;33m)\u001b[0m\u001b[1;33m\u001b[0m\u001b[0m\n\u001b[0;32m     49\u001b[0m         \u001b[0mprint\u001b[0m\u001b[1;33m(\u001b[0m\u001b[0mself\u001b[0m\u001b[1;33m.\u001b[0m\u001b[0mchildren\u001b[0m\u001b[1;33m)\u001b[0m\u001b[1;33m\u001b[0m\u001b[0m\n\u001b[1;32m---> 50\u001b[1;33m         \u001b[0mresult\u001b[0m \u001b[1;33m=\u001b[0m \u001b[0mself\u001b[0m\u001b[1;33m.\u001b[0m\u001b[0mchildren\u001b[0m\u001b[1;33m[\u001b[0m\u001b[0mi\u001b[0m\u001b[1;33m]\u001b[0m\u001b[1;33m.\u001b[0m\u001b[0minsert\u001b[0m\u001b[1;33m(\u001b[0m\u001b[0mkey\u001b[0m\u001b[1;33m,\u001b[0m \u001b[0mvalue\u001b[0m\u001b[1;33m)\u001b[0m\u001b[1;33m\u001b[0m\u001b[0m\n\u001b[0m\u001b[0;32m     51\u001b[0m \u001b[1;33m\u001b[0m\u001b[0m\n\u001b[0;32m     52\u001b[0m         \u001b[1;32mif\u001b[0m \u001b[0mresult\u001b[0m \u001b[1;32mis\u001b[0m \u001b[1;32mnot\u001b[0m \u001b[1;32mNone\u001b[0m\u001b[1;33m:\u001b[0m\u001b[1;33m\u001b[0m\u001b[0m\n",
      "\u001b[1;32m<ipython-input-6-a02c19f7b8a2>\u001b[0m in \u001b[0;36minsert\u001b[1;34m(self, key, value)\u001b[0m\n\u001b[0;32m     41\u001b[0m \u001b[1;33m\u001b[0m\u001b[0m\n\u001b[0;32m     42\u001b[0m         \u001b[1;32melse\u001b[0m\u001b[1;33m:\u001b[0m\u001b[1;33m\u001b[0m\u001b[0m\n\u001b[1;32m---> 43\u001b[1;33m             \u001b[0mself\u001b[0m\u001b[1;33m.\u001b[0m\u001b[0minsertNonFull\u001b[0m\u001b[1;33m(\u001b[0m\u001b[0mkey\u001b[0m\u001b[1;33m,\u001b[0m \u001b[0mvalue\u001b[0m\u001b[1;33m)\u001b[0m\u001b[1;33m\u001b[0m\u001b[0m\n\u001b[0m\u001b[0;32m     44\u001b[0m             \u001b[1;32mreturn\u001b[0m \u001b[1;32mNone\u001b[0m\u001b[1;33m\u001b[0m\u001b[0m\n\u001b[0;32m     45\u001b[0m \u001b[1;33m\u001b[0m\u001b[0m\n",
      "\u001b[1;32m<ipython-input-6-a02c19f7b8a2>\u001b[0m in \u001b[0;36minsertNonFull\u001b[1;34m(self, key, value)\u001b[0m\n\u001b[0;32m     58\u001b[0m                 \u001b[0mself\u001b[0m\u001b[1;33m.\u001b[0m\u001b[0mkeys\u001b[0m\u001b[1;33m[\u001b[0m\u001b[0mi\u001b[0m\u001b[1;33m]\u001b[0m \u001b[1;33m=\u001b[0m \u001b[0mresult\u001b[0m\u001b[1;33m.\u001b[0m\u001b[0mkey\u001b[0m\u001b[1;33m\u001b[0m\u001b[0m\n\u001b[0;32m     59\u001b[0m                 \u001b[0mself\u001b[0m\u001b[1;33m.\u001b[0m\u001b[0mchildren\u001b[0m\u001b[1;33m[\u001b[0m\u001b[0mi\u001b[0m\u001b[1;33m]\u001b[0m \u001b[1;33m=\u001b[0m \u001b[0mresult\u001b[0m\u001b[1;33m.\u001b[0m\u001b[0mleft\u001b[0m\u001b[1;33m\u001b[0m\u001b[0m\n\u001b[1;32m---> 60\u001b[1;33m                 \u001b[0mself\u001b[0m\u001b[1;33m.\u001b[0m\u001b[0mchildre\u001b[0m\u001b[1;33m[\u001b[0m\u001b[0mi\u001b[0m\u001b[1;33m+\u001b[0m\u001b[1;36m1\u001b[0m\u001b[1;33m]\u001b[0m \u001b[1;33m=\u001b[0m \u001b[0mresult\u001b[0m\u001b[1;33m.\u001b[0m\u001b[0mright\u001b[0m\u001b[1;33m\u001b[0m\u001b[0m\n\u001b[0m\u001b[0;32m     61\u001b[0m                 \u001b[0mself\u001b[0m\u001b[1;33m.\u001b[0m\u001b[0mnum\u001b[0m \u001b[1;33m+=\u001b[0m \u001b[1;36m1\u001b[0m\u001b[1;33m\u001b[0m\u001b[0m\n\u001b[0;32m     62\u001b[0m \u001b[1;33m\u001b[0m\u001b[0m\n",
      "\u001b[1;31mAttributeError\u001b[0m: 'INode' object has no attribute 'childre'"
     ]
    }
   ],
   "source": [
    "tree.insert(1, \"1111\")\n",
    "tree.insert(2, \"2222\")\n",
    "tree.insert(3, \"3333\")\n",
    "tree.insert(4, \"4444\")\n"
   ]
  },
  {
   "cell_type": "code",
   "execution_count": 15,
   "metadata": {},
   "outputs": [
    {
     "name": "stdout",
     "output_type": "stream",
     "text": [
      "3\n"
     ]
    }
   ],
   "source": [
    "print(M)"
   ]
  },
  {
   "cell_type": "code",
   "execution_count": 16,
   "metadata": {},
   "outputs": [
    {
     "name": "stdout",
     "output_type": "stream",
     "text": [
      "4\n"
     ]
    }
   ],
   "source": [
    "print(N)"
   ]
  }
 ],
 "metadata": {
  "kernelspec": {
   "display_name": "Python 3",
   "language": "python",
   "name": "python3"
  },
  "language_info": {
   "codemirror_mode": {
    "name": "ipython",
    "version": 3
   },
   "file_extension": ".py",
   "mimetype": "text/x-python",
   "name": "python",
   "nbconvert_exporter": "python",
   "pygments_lexer": "ipython3",
   "version": "3.6.5"
  }
 },
 "nbformat": 4,
 "nbformat_minor": 2
}
