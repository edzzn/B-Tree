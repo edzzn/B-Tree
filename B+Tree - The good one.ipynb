{
 "cells": [
  {
   "cell_type": "markdown",
   "metadata": {},
   "source": [
    "# Port of java program\n",
    "[https://en.wikibooks.org/wiki/Algorithm_Implementation/Trees/B%2B_tree](https://en.wikibooks.org/wiki/Algorithm_Implementation/Trees/B%2B_tree)"
   ]
  },
  {
   "cell_type": "code",
   "execution_count": 1,
   "metadata": {},
   "outputs": [],
   "source": [
    "# El módulo abc obliga a las clases derivadas a implemtar\n",
    "# un método particular utilizando @abstractmethod\n",
    "from abc import ABCMeta, abstractmethod\n",
    "\n",
    "# Permite trabajar mejor con listas, insertar conservando el orden\n",
    "import bisect\n"
   ]
  },
  {
   "cell_type": "code",
   "execution_count": 2,
   "metadata": {},
   "outputs": [],
   "source": [
    "# Maximo número de hojas\n",
    "M = 4;\n",
    "\n",
    "# Maximo número de nodos en nodo intermedio\n",
    "N = 4;"
   ]
  },
  {
   "cell_type": "code",
   "execution_count": 3,
   "metadata": {},
   "outputs": [],
   "source": [
    "class Node(metaclass=ABCMeta):  \n",
    "    \n",
    "    def __init__(self):\n",
    "        self.num = 0\n",
    "        self.keys = []\n",
    "        \n",
    "    @abstractmethod\n",
    "    def getLoc(self, key):\n",
    "        \"\"\"Return null si no split. Si no retorna la info del split.\"\"\"\n",
    "        pass\n",
    "    \n",
    "    @abstractmethod\n",
    "    def insert(self, key,value): pass\n",
    "    \n",
    "    @abstractmethod\n",
    "    def dump(self): pass"
   ]
  },
  {
   "cell_type": "code",
   "execution_count": 4,
   "metadata": {},
   "outputs": [],
   "source": [
    "class Split:\n",
    "    \n",
    "    # TODO: Refactor Split\n",
    "    \n",
    "    def __init__(self, key, node_leaf, right):\n",
    "        self.key = key\n",
    "        self.left = node_leaf\n",
    "        self.right = node_right\n",
    "    "
   ]
  },
  {
   "cell_type": "code",
   "execution_count": 9,
   "metadata": {},
   "outputs": [],
   "source": [
    "class LNode(Node):\n",
    "    \n",
    "    def __init__(self):\n",
    "        super(LNode, self).__init__();\n",
    "        \n",
    "        self.values = []\n",
    "    \n",
    "    def getLoc(self, key):\n",
    "        \"\"\"Busqueda lineal\"\"\"\n",
    "        # for i, key_i in enumerate(self.keys):\n",
    "        #    if key_i >= key:\n",
    "        #        return i\n",
    "        # Si no se encontró una posición retorna la posición final\n",
    "        # return len(self.keys)\n",
    "        pass\n",
    "            \n",
    "    def insert(self, key, value):\n",
    "        i = bisect.bisect_left(self.keys, key)\n",
    "        \n",
    "        if self.num == M:\n",
    "            # Nodo llego, se debe dividir\n",
    "            mid = (M + 1) / 2\n",
    "            sNum = self.num - mid\n",
    "            \n",
    "            # Creamos un nodo Hermano, y a este le asignamos la mitad de los elementos\n",
    "            sibling = LNode()\n",
    "            sibling.num = sNum\n",
    "            sibling.keys = self.keys[mid:]\n",
    "            sibling.values = self.values[mid:]\n",
    "            \n",
    "            self.keys = self.keys[:mid]\n",
    "            self.values = self.values[:mid]\n",
    "            self.num = mid\n",
    "            \n",
    "            if i < mid:\n",
    "                #self.insertNonfull(key, value, i)\n",
    "                self.insertNonFull(key, value, i)\n",
    "            else:\n",
    "                # nuevo valor va a la derecha\n",
    "                # sibling.insertNonfull(key, value, i-mid)\n",
    "                sibling.insertNonFull(key, value, i-mid)\n",
    "                            \n",
    "            # notificar al nodo padre\n",
    "            result = Split(sibling.keys[0], self, sibling)\n",
    "            \n",
    "            return result\n",
    "        \n",
    "        else:\n",
    "            self.insertNonFull(key, value, i)\n",
    "            return None \n",
    "        \n",
    "    def insertNonFull(self, key, value, i):\n",
    "        self.keys.insert(i, key)\n",
    "        self.values.insert(i, value)\n",
    "        self.num += 1          \n",
    "    \n",
    "    def dump(self):\n",
    "        print(\"LNode h==0\")\n",
    "        for key in self.keys:\n",
    "            print(key)"
   ]
  },
  {
   "cell_type": "code",
   "execution_count": 18,
   "metadata": {},
   "outputs": [],
   "source": [
    "class INode(Node):\n",
    "    \n",
    "    def __init__(self):\n",
    "        super(INode, self).__init__();\n",
    "                \n",
    "        self.children = []\n",
    "    \n",
    "    def getLoc(self, key):\n",
    "        \"\"\"Busqueda lineal\"\"\"\n",
    "        # for i, key_i in enumerate(self.keys):\n",
    "        #    if key_i >= key:\n",
    "        #        return i\n",
    "        # Si no se encontró una posición retorna la posición final\n",
    "        # return len(self.keys)\n",
    "        pass\n",
    "            \n",
    "    def insert(self, key, value):\n",
    "        if self.num == N:\n",
    "            # Dividir\n",
    "            mid = (N + 1) / 2\n",
    "            nNum = this.num - mid\n",
    "            \n",
    "            sibling = INode()\n",
    "            sibling.num = sNum\n",
    "            \n",
    "            sibling.keys = self.keys[mid:]\n",
    "            sibling.children = self.children[mid:]\n",
    "            \n",
    "            self.keys = self.keys[:mid]\n",
    "            self.children = self.children[:mid]\n",
    "            self.num = mid - 1 #\n",
    "            \n",
    "            result = Split(this.keys[mid - 1], self, sibling)\n",
    "            \n",
    "            # insertar en el lado apropiado            \n",
    "            if key <= result.key: # menor que cero\n",
    "                self.keys.insertNonFull(key, value)\n",
    "            else:\n",
    "                sibling.keys.insertNonFull(key, value)\n",
    "            \n",
    "            return result\n",
    "        \n",
    "        else:\n",
    "            self.keys.insertNonFull(key, value)\n",
    "            return None\n",
    "        \n",
    "    def insertNonFull(self, key, value):\n",
    "        i = bisect.bisect_left(self.keys, key)\n",
    "        \n",
    "        result = self.children[i].insert(key, value)\n",
    "        \n",
    "        if result is not None:\n",
    "            # Caso contrario no se debe modicar nada\n",
    "            \n",
    "            if i == self.num:\n",
    "                # Insertamos a la derecha\n",
    "                \n",
    "                self.keys[i] = result.key\n",
    "                self.children[i] = result.left\n",
    "                self.childre[i+1] = result.right\n",
    "                self.num += 1\n",
    "                \n",
    "            else:\n",
    "                self.children.insert(i, result.left)\n",
    "                self.children.insert(i + 1, result.right)\n",
    "                self.keys.insert(i, result.key)\n",
    "                self.num += 1;              \n",
    "        \n",
    "    \n",
    "    def dump(self):\n",
    "        print(\"INode h==0\")\n",
    "        for i, key, child in zip(self.keys, self.children):\n",
    "                child.dump()                \n",
    "                print(\"> {key}\".format(key))            \n",
    "                \n",
    "        self.children[self.num].dump();       "
   ]
  },
  {
   "cell_type": "code",
   "execution_count": 19,
   "metadata": {},
   "outputs": [],
   "source": [
    "lnode = LNode()"
   ]
  },
  {
   "cell_type": "code",
   "execution_count": 20,
   "metadata": {},
   "outputs": [
    {
     "name": "stdout",
     "output_type": "stream",
     "text": [
      "LNode h==0\n"
     ]
    }
   ],
   "source": [
    "lnode.dump()"
   ]
  },
  {
   "cell_type": "code",
   "execution_count": 21,
   "metadata": {},
   "outputs": [],
   "source": [
    "a = 5\n",
    "arr = [1,2,3,4,5,6,7,8,9,10]"
   ]
  },
  {
   "cell_type": "code",
   "execution_count": 22,
   "metadata": {},
   "outputs": [],
   "source": [
    "i = bisect.bisect_left(arr, a)"
   ]
  },
  {
   "cell_type": "code",
   "execution_count": 12,
   "metadata": {},
   "outputs": [
    {
     "data": {
      "text/plain": [
       "4"
      ]
     },
     "execution_count": 12,
     "metadata": {},
     "output_type": "execute_result"
    }
   ],
   "source": [
    "i"
   ]
  },
  {
   "cell_type": "code",
   "execution_count": 16,
   "metadata": {},
   "outputs": [],
   "source": [
    "arr.insert(i, a)"
   ]
  },
  {
   "cell_type": "code",
   "execution_count": 17,
   "metadata": {},
   "outputs": [
    {
     "data": {
      "text/plain": [
       "[1, 2, 3, 4, 5, 5, 5, 6, 7, 8, 9, 10, (4, 5)]"
      ]
     },
     "execution_count": 17,
     "metadata": {},
     "output_type": "execute_result"
    }
   ],
   "source": [
    "arr"
   ]
  },
  {
   "cell_type": "code",
   "execution_count": null,
   "metadata": {},
   "outputs": [],
   "source": []
  }
 ],
 "metadata": {
  "kernelspec": {
   "display_name": "Python 3",
   "language": "python",
   "name": "python3"
  },
  "language_info": {
   "codemirror_mode": {
    "name": "ipython",
    "version": 3
   },
   "file_extension": ".py",
   "mimetype": "text/x-python",
   "name": "python",
   "nbconvert_exporter": "python",
   "pygments_lexer": "ipython3",
   "version": "3.6.5"
  }
 },
 "nbformat": 4,
 "nbformat_minor": 2
}
