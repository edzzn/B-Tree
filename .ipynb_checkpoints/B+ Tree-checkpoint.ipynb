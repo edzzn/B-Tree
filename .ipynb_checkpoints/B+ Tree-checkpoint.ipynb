{
 "cells": [
  {
   "cell_type": "markdown",
   "metadata": {},
   "source": [
    "# B+ Tree\n",
    "\n",
    "Árbol perfectamente balanceado\n",
    "\n",
    "![B + Tree](b+tree.png)\n",
    "\n",
    "[info](https://www.youtube.com/watch?v=CYKRMz8yzVU)\n",
    "\n",
    "---\n",
    "### Orden y número de llaves\n",
    "\n",
    "### Segun Wikipedia\n",
    "\n",
    "|Node Type | Children Type|\tMin Number of Children|\tMax Number of Children|\tExample b=7|Example b=100| b = 3 |\n",
    "|------|------|------|------|------|------|------|\n",
    "|Root Node (when it is the only node in the tree)|Records|1|b-1|1–6|1–99|1-2|\n",
    "|Root Node|Internal Nodes or Leaf Nodes|2|b|2–7|2–100|2-3|\n",
    "|Internal Node|Internal Nodes or Leaf Nodes|b/2|b|4–7|50–100|2-3|\n",
    "|Leaf Node|Records|[b/2] -1|b-1|3–6|49–99|1-2|\n",
    "\n",
    "\n",
    "[B+ tree - Wikipedia](https://en.wikipedia.org/wiki/B%2B_tree)\n",
    "\n"
   ]
  },
  {
   "cell_type": "markdown",
   "metadata": {},
   "source": [
    "- Nodo interno: __d__ - __2*d__ \n",
    "- Hijos: __d+1__ - __(2*d) + 1)__"
   ]
  },
  {
   "cell_type": "code",
   "execution_count": 234,
   "metadata": {},
   "outputs": [],
   "source": [
    "import bisect\n",
    "\"\"\"\n",
    "grado: el grado del arbol\n",
    "numLlaves: num de punteros\n",
    "items: valores\n",
    "hijos: hijos\n",
    "index: posición del ultimo None\n",
    "\"\"\"\n",
    "class TreeNode:\n",
    "    \n",
    "    def __init__(self, arbol, grado=1, items=None, hijos=None):\n",
    "        self.arbol = arbol\n",
    "        self.items = items or []\n",
    "        self.hijos = hijos or []\n",
    "    \n",
    "    def __str__(self):\n",
    "        return \"<%s>\" % (\", \".join(map(str, self.items)))\n",
    "\n",
    "\n",
    "    def insert(self, index, item):\n",
    "        self.items.insert(index, item)\n",
    "        if len(self.items) >= self.arbol.grado:\n",
    "            print(\"Se debe reducir el tamaño del nodo\")\n",
    "\n",
    "class Tree:\n",
    "    def __init__(self, grado):\n",
    "        self.grado = grado\n",
    "        self.raiz = TreeNode(self)\n",
    "    \n",
    "    def camino(self, item):\n",
    "        actual = self.raiz\n",
    "        ancestros = []\n",
    "        \n",
    "        while getattr(actual, 'hijos', None):\n",
    "            index = bisect.bisect_left(actual, item)\n",
    "            ancestros.append((actual, item))\n",
    "            \n",
    "            if index < len(actual.items) and actual.items[index] == item:\n",
    "                return ancestros\n",
    "            actual = actual.hijo[index]\n",
    "        \n",
    "        index = bisect.bisect_left(actual.items, item)\n",
    "        ancestros.append((actual, index))\n",
    "\n",
    "        print(ancestros)    \n",
    "    "
   ]
  },
  {
   "cell_type": "code",
   "execution_count": 235,
   "metadata": {},
   "outputs": [],
   "source": [
    "arbol = Tree(2)"
   ]
  },
  {
   "cell_type": "code",
   "execution_count": 236,
   "metadata": {},
   "outputs": [
    {
     "name": "stdout",
     "output_type": "stream",
     "text": [
      "<>\n"
     ]
    }
   ],
   "source": [
    "print(arbol.raiz)"
   ]
  },
  {
   "cell_type": "code",
   "execution_count": 237,
   "metadata": {},
   "outputs": [
    {
     "name": "stdout",
     "output_type": "stream",
     "text": [
      "<1, 2, 3, 4, 5, 6>\n",
      "[1, 2, 3, 4, 5, 6]\n"
     ]
    }
   ],
   "source": [
    "arbol.raiz.items.append(1)\n",
    "arbol.raiz.items.append(2)\n",
    "arbol.raiz.items.append(3)\n",
    "arbol.raiz.items.append(4)\n",
    "arbol.raiz.items.append(5)\n",
    "arbol.raiz.items.append(6)\n",
    "sorted(arbol.raiz.items)\n",
    "print(arbol.raiz)\n",
    "print(arbol.raiz.items)"
   ]
  },
  {
   "cell_type": "code",
   "execution_count": 230,
   "metadata": {},
   "outputs": [
    {
     "name": "stdout",
     "output_type": "stream",
     "text": [
      "[(<__main__.TreeNode object at 0x000002BD15450EB8>, 1)]\n"
     ]
    }
   ],
   "source": [
    "arbol.camino(2)"
   ]
  },
  {
   "cell_type": "code",
   "execution_count": 231,
   "metadata": {},
   "outputs": [
    {
     "data": {
      "text/plain": [
       "1"
      ]
     },
     "execution_count": 231,
     "metadata": {},
     "output_type": "execute_result"
    }
   ],
   "source": [
    "index = bisect.bisect_left(arbol.raiz.items, 2)\n",
    "index"
   ]
  },
  {
   "cell_type": "code",
   "execution_count": 232,
   "metadata": {},
   "outputs": [],
   "source": [
    "present = index < len(arbol.raiz.items)\n"
   ]
  },
  {
   "cell_type": "code",
   "execution_count": 233,
   "metadata": {},
   "outputs": [
    {
     "data": {
      "text/plain": [
       "True"
      ]
     },
     "execution_count": 233,
     "metadata": {},
     "output_type": "execute_result"
    }
   ],
   "source": [
    "present\n"
   ]
  },
  {
   "cell_type": "code",
   "execution_count": 170,
   "metadata": {},
   "outputs": [
    {
     "data": {
      "text/plain": [
       "[1, 3, 4, 5, 5, 8, 22]"
      ]
     },
     "execution_count": 170,
     "metadata": {},
     "output_type": "execute_result"
    }
   ],
   "source": [
    "x"
   ]
  },
  {
   "cell_type": "code",
   "execution_count": 177,
   "metadata": {},
   "outputs": [
    {
     "data": {
      "text/plain": [
       "3"
      ]
     },
     "execution_count": 177,
     "metadata": {},
     "output_type": "execute_result"
    }
   ],
   "source": [
    "import bisect \n",
    "bisect.bisect_left(x, 5)"
   ]
  },
  {
   "cell_type": "code",
   "execution_count": null,
   "metadata": {},
   "outputs": [],
   "source": []
  }
 ],
 "metadata": {
  "kernelspec": {
   "display_name": "Python 3",
   "language": "python",
   "name": "python3"
  },
  "language_info": {
   "codemirror_mode": {
    "name": "ipython",
    "version": 3
   },
   "file_extension": ".py",
   "mimetype": "text/x-python",
   "name": "python",
   "nbconvert_exporter": "python",
   "pygments_lexer": "ipython3",
   "version": "3.6.5"
  }
 },
 "nbformat": 4,
 "nbformat_minor": 2
}
